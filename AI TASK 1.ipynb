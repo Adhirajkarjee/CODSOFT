{
 "cells": [
  {
   "cell_type": "markdown",
   "id": "afdfa7c2-6054-43f0-9f3b-36490c25ae10",
   "metadata": {},
   "source": [
    "Project Name:CHATBOT_WITH_RULE-BASED_RESPONSES_to_discuss_the_environmental_pollution_issues_in_Delhi"
   ]
  },
  {
   "cell_type": "markdown",
   "id": "2edb6db6-853a-437e-9481-53835f81e216",
   "metadata": {},
   "source": [
    "Industry - Codsoft"
   ]
  },
  {
   "cell_type": "markdown",
   "id": "d977eeb1-f875-44e3-b17f-bce43350541d",
   "metadata": {},
   "source": [
    "Contribution - Individual"
   ]
  },
  {
   "cell_type": "markdown",
   "id": "d99614cf-61b4-496e-89d6-32bba85b5631",
   "metadata": {},
   "source": [
    "Member Name - Adhiraj Karjee"
   ]
  },
  {
   "cell_type": "markdown",
   "id": "68718807-dcc0-48f7-a27d-8f545d681fcb",
   "metadata": {},
   "source": [
    "Project Summary:\n",
    "The PollutionBot Project aims to create an interactive chatbot that raises awareness and facilitates discussions about environmental pollution in Delhi. The bot engages users by asking pollution-related questions, responding to inputs about air quality, health impacts, government efforts, and solutions, and encouraging meaningful conversations about mitigating pollution. It combines regex-based intent recognition and a conversational approach to educate users and promote sustainability."
   ]
  },
  {
   "cell_type": "code",
   "execution_count": null,
   "id": "62716ece-4e5a-4877-8d18-3fcdbe8c2581",
   "metadata": {},
   "outputs": [],
   "source": [
    "Let's Begin,"
   ]
  },
  {
   "cell_type": "code",
   "execution_count": 9,
   "id": "077b0f10-5650-42d0-98b2-db699a5b9f6f",
   "metadata": {},
   "outputs": [
    {
     "name": "stdin",
     "output_type": "stream",
     "text": [
      "What is your name?\n",
      " Adhiraj\n",
      "Hi Adhiraj, I am PollutionBot. Will you discuss pollution in Delhi with me?\n",
      " No\n"
     ]
    },
    {
     "name": "stdout",
     "output_type": "stream",
     "text": [
      "Have a nice day! Stay safe from pollution!\n"
     ]
    }
   ],
   "source": [
    "import random\n",
    "import re\n",
    "\n",
    "class PollutionBot:\n",
    "    ## Responses\n",
    "    negative_res = (\"no\", \"nope\", \"nah\", \"naw\", \"not a chance\", \"sorry\")\n",
    "    exit_commands = (\"quit\", \"pause\", \"exit\", \"goodbye\", \"bye\", \"later\")\n",
    "\n",
    "    random_question = (\n",
    "        \"What do you think about the air quality in Delhi?\",\n",
    "        \"How does pollution affect your daily life?\",\n",
    "        \"What steps do you take to reduce pollution?\",\n",
    "        \"Do you think the government is doing enough to combat pollution?\",\n",
    "        \"What is your opinion on sustainable living?\"\n",
    "    )\n",
    "\n",
    "    def __init__(self):\n",
    "        self.pollution_topics = {\n",
    "            'air_quality_intent': r'.*\\s*air quality.*',\n",
    "            'health_impact_intent': r'.*\\s*health impact.*',\n",
    "            'government_efforts_intent': r'.*\\s*government efforts.*',\n",
    "            'solutions_intent': r'.*\\s*solutions.*',\n",
    "        }\n",
    "\n",
    "    def greet(self):\n",
    "        self.name = input(\"What is your name?\\n\")\n",
    "        will_help = input(f\"Hi {self.name}, I am PollutionBot. Will you discuss pollution in Delhi with me?\\n\")\n",
    "        if will_help.lower() in self.negative_res:\n",
    "            print(\"Have a nice day! Stay safe from pollution!\")\n",
    "            return\n",
    "        self.chat()\n",
    "\n",
    "    def make_exit(self, reply):\n",
    "        for command in self.exit_commands:\n",
    "            if reply == command:\n",
    "                print(\"Goodbye! Stay safe and take care of the environment!\")\n",
    "                return True\n",
    "\n",
    "    def chat(self):\n",
    "        reply = input(random.choice(self.random_question)).lower()\n",
    "        while not self.make_exit(reply):\n",
    "            reply = input(self.match_reply(reply))\n",
    "\n",
    "    def match_reply(self, reply):\n",
    "        for intent, regex_pattern in self.pollution_topics.items():\n",
    "            found_match = re.match(regex_pattern, reply)\n",
    "            if found_match and intent == 'air_quality_intent':\n",
    "                return self.air_quality_intent()\n",
    "            elif found_match and intent == 'health_impact_intent':\n",
    "                return self.health_impact_intent()\n",
    "            elif found_match and intent == 'government_efforts_intent':\n",
    "                return self.government_efforts_intent()\n",
    "            elif found_match and intent == 'solutions_intent':\n",
    "                return self.solutions_intent()\n",
    "\n",
    "        return self.no_match_intent()\n",
    "\n",
    "    def air_quality_intent(self):\n",
    "        responses = (\n",
    "            \"The air quality in Delhi is often hazardous due to high levels of PM2.5 and PM10.\",\n",
    "            \"Delhi frequently ranks among the most polluted cities in the world. What do you think about this?\",\n",
    "            \"Air pollution in Delhi is primarily caused by vehicular emissions, industrial activities, and crop stubble burning.\"\n",
    "        )\n",
    "        return random.choice(responses)\n",
    "\n",
    "    def health_impact_intent(self):\n",
    "        responses = (\n",
    "            \"Pollution in Delhi leads to respiratory issues, asthma, and other chronic diseases.\",\n",
    "            \"Children and the elderly are especially vulnerable to health problems caused by pollution.\",\n",
    "            \"Long-term exposure to Delhi's pollution can reduce life expectancy.\"\n",
    "        )\n",
    "        return random.choice(responses)\n",
    "\n",
    "    def government_efforts_intent(self):\n",
    "        responses = (\n",
    "            \"The government has implemented the odd-even scheme to reduce vehicular pollution.\",\n",
    "            \"Initiatives like banning firecrackers and promoting electric vehicles are steps in the right direction.\",\n",
    "            \"There is still a lot to be done, such as stricter enforcement of anti-pollution laws.\"\n",
    "        )\n",
    "        return random.choice(responses)\n",
    "\n",
    "    def solutions_intent(self):\n",
    "        responses = (\n",
    "            \"Planting more trees and creating green spaces can help reduce pollution levels.\",\n",
    "            \"Switching to public transport, cycling, or walking can reduce vehicular emissions.\",\n",
    "            \"Using renewable energy sources and reducing waste can contribute to a cleaner environment.\"\n",
    "        )\n",
    "        return random.choice(responses)\n",
    "\n",
    "    def no_match_intent(self):\n",
    "        responses = (\n",
    "            \"Can you elaborate on that?\",\n",
    "            \"That's interesting. Could you tell me more?\",\n",
    "            \"I see. What do you think?\",\n",
    "            \"Why do you feel that way?\",\n",
    "            \"How do you think we can solve this issue?\"\n",
    "        )\n",
    "        return random.choice(responses)\n",
    "\n",
    "bot = PollutionBot()\n",
    "bot.greet()\n"
   ]
  },
  {
   "cell_type": "code",
   "execution_count": null,
   "id": "21b4bdfa-e1a0-4522-94f4-991240be0950",
   "metadata": {},
   "outputs": [],
   "source": []
  }
 ],
 "metadata": {
  "kernelspec": {
   "display_name": "Python 3 (ipykernel)",
   "language": "python",
   "name": "python3"
  },
  "language_info": {
   "codemirror_mode": {
    "name": "ipython",
    "version": 3
   },
   "file_extension": ".py",
   "mimetype": "text/x-python",
   "name": "python",
   "nbconvert_exporter": "python",
   "pygments_lexer": "ipython3",
   "version": "3.12.4"
  }
 },
 "nbformat": 4,
 "nbformat_minor": 5
}
