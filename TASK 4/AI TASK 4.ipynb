{
 "cells": [
  {
   "cell_type": "markdown",
   "id": "d7993b9a-9a7d-4de7-8c78-4368370d507a",
   "metadata": {},
   "source": [
    "Project Name:Recent_Hindi_Movies_Recommendation_System"
   ]
  },
  {
   "cell_type": "markdown",
   "id": "9db09a90-334d-4ff8-a538-b6c1664fa499",
   "metadata": {},
   "source": [
    "Industry - Codsoft"
   ]
  },
  {
   "cell_type": "markdown",
   "id": "357ae488-e3dd-4c8a-bac5-e126499305a9",
   "metadata": {},
   "source": [
    "Contribution - Individual"
   ]
  },
  {
   "cell_type": "markdown",
   "id": "8d422044-587e-4994-b983-849c137d93a8",
   "metadata": {},
   "source": [
    "Member Name - Adhiraj Karjee"
   ]
  },
  {
   "cell_type": "markdown",
   "id": "2a16703a-a3b4-420d-8c7c-5289c51629e6",
   "metadata": {},
   "source": [
    "Project Summary: The project aims to build a simple movie recommendation system using collaborative filtering based on user ratings. Given a dataset of user ratings for movies, the system recommends similar or variety of movies to users based on their preferences.\n",
    "\n"
   ]
  },
  {
   "cell_type": "code",
   "execution_count": 29,
   "id": "5c763cf0-d9f3-46da-b684-d9c26e990815",
   "metadata": {},
   "outputs": [
    {
     "name": "stdout",
     "output_type": "stream",
     "text": [
      "Since you watched Pushpa:The Rule-Part2(Action), you might also like:\n",
      "Singham Again(Action)\n",
      "Kalki 2898  AD(Science-fiction action film)\n",
      "Bhool Bhulaiya 3(Horror Thriller)\n"
     ]
    }
   ],
   "source": [
    "import pandas as pd\n",
    "import numpy as np\n",
    "from scipy.sparse import csr_matrix\n",
    "from sklearn.neighbors import NearestNeighbors\n",
    "\n",
    "# Sample Hindi movie dataset\n",
    "ratings_data = {\n",
    "    \"userId\": [1, 2, 1, 3, 4, 2, 5, 3, 6, 4],\n",
    "    \"movieId\": [101, 101, 102, 103, 102, 103, 104, 105, 101, 105],\n",
    "    \"rating\": [4.5, 3.0, 4.0, 5.0, 4.5, 4.8, 5.0, 3.5, 4.2, 4.0],\n",
    "}\n",
    "\n",
    "movies_data = {\n",
    "    \"movieId\": [101, 102, 103, 104, 105],\n",
    "    \"title\": [\n",
    "        \"Pushpa:The Rule-Part2(Action)\",\n",
    "        \"Singham Again(Action)\",\n",
    "        \"Kalki 2898  AD(Science-fiction action film)\",\n",
    "        \"Bhool Bhulaiya 3(Horror Thriller)\",\n",
    "        \"Srikanth(Motivation)\",\n",
    "    ],\n",
    "}\n",
    "\n",
    "ratings = pd.DataFrame(ratings_data)\n",
    "movies = pd.DataFrame(movies_data)\n",
    "\n",
    "# Create sparse matrix\n",
    "def create_matrix(df):\n",
    "    N = len(df[\"userId\"].unique())\n",
    "    M = len(df[\"movieId\"].unique())\n",
    "\n",
    "    user_mapper = dict(zip(np.unique(df[\"userId\"]), list(range(N))))\n",
    "    movie_mapper = dict(zip(np.unique(df[\"movieId\"]), list(range(M))))\n",
    "\n",
    "    user_inv_mapper = dict(zip(list(range(N)), np.unique(df[\"userId\"])))\n",
    "    movie_inv_mapper = dict(zip(list(range(M)), np.unique(df[\"movieId\"])))\n",
    "\n",
    "    user_index = [user_mapper[i] for i in df[\"userId\"]]\n",
    "    movie_index = [movie_mapper[i] for i in df[\"movieId\"]]\n",
    "\n",
    "    X = csr_matrix((df[\"rating\"], (movie_index, user_index)), shape=(M, N))\n",
    "\n",
    "    return X, user_mapper, movie_mapper, user_inv_mapper, movie_inv_mapper\n",
    "\n",
    "X, user_mapper, movie_mapper, user_inv_mapper, movie_inv_mapper = create_matrix(ratings)\n",
    "\n",
    "# Define the find_similar_movies function\n",
    "def find_similar_movies(movie_id, X, k, metric=\"cosine\", show_distance=False):\n",
    "    try:\n",
    "        neighbour_ids = []\n",
    "\n",
    "        # Map movie ID to index\n",
    "        movie_ind = movie_mapper[movie_id]\n",
    "        movie_vec = X[movie_ind]\n",
    "\n",
    "        # Increment k to account for the query movie itself\n",
    "        k += 1\n",
    "\n",
    "        # Fit the KNN model\n",
    "        kNN = NearestNeighbors(n_neighbors=k, algorithm=\"brute\", metric=metric)\n",
    "        kNN.fit(X)\n",
    "\n",
    "        # Find k-nearest neighbors\n",
    "        movie_vec = movie_vec.reshape(1, -1)\n",
    "        if show_distance:\n",
    "            distances, indices = kNN.kneighbors(movie_vec, return_distance=True)\n",
    "        else:\n",
    "            indices = kNN.kneighbors(movie_vec, return_distance=False)\n",
    "\n",
    "        # Collect neighbor IDs\n",
    "        for idx in indices[0]:  # Access the 1D array of neighbors\n",
    "            neighbour_ids.append(movie_inv_mapper[idx])\n",
    "\n",
    "        # Exclude the query movie itself\n",
    "        neighbour_ids.pop(0)\n",
    "        return neighbour_ids\n",
    "\n",
    "    except KeyError:\n",
    "        print(f\"Movie with ID {movie_id} not found.\")\n",
    "        return []\n",
    "    except Exception as e:\n",
    "        print(f\"An error occurred: {e}\")\n",
    "        return []\n",
    "\n",
    "# Movie titles dictionary\n",
    "movie_titles = dict(zip(movies[\"movieId\"], movies[\"title\"]))\n",
    "\n",
    "# Recommend movies for a user\n",
    "def recommend_movies_for_user(user_id, X, user_mapper, movie_mapper, movie_inv_mapper, k=10):\n",
    "    df1 = ratings[ratings[\"userId\"] == user_id]\n",
    "\n",
    "    if df1.empty:\n",
    "        print(f\"User with ID {user_id} does not exist.\")\n",
    "        return\n",
    "\n",
    "    movie_id = df1[df1[\"rating\"] == max(df1[\"rating\"])][\"movieId\"].iloc[0]\n",
    "    similar_ids = find_similar_movies(movie_id, X, k)\n",
    "    movie_title = movie_titles.get(movie_id, \"Movie not found\")\n",
    "\n",
    "    print(f\"Since you watched {movie_title}, you might also like:\")\n",
    "    for i in similar_ids:\n",
    "        print(movie_titles.get(i, \"Movie not found\"))\n",
    "\n",
    "# Test the recommendation system\n",
    "user_id = 1\n",
    "recommend_movies_for_user(user_id, X, user_mapper, movie_mapper, movie_inv_mapper, k=3)\n",
    "\n"
   ]
  },
  {
   "cell_type": "code",
   "execution_count": null,
   "id": "46f5f63d-5b58-4faf-9e83-c2fd17dd04cb",
   "metadata": {},
   "outputs": [],
   "source": []
  }
 ],
 "metadata": {
  "kernelspec": {
   "display_name": "Python 3 (ipykernel)",
   "language": "python",
   "name": "python3"
  },
  "language_info": {
   "codemirror_mode": {
    "name": "ipython",
    "version": 3
   },
   "file_extension": ".py",
   "mimetype": "text/x-python",
   "name": "python",
   "nbconvert_exporter": "python",
   "pygments_lexer": "ipython3",
   "version": "3.12.4"
  }
 },
 "nbformat": 4,
 "nbformat_minor": 5
}
